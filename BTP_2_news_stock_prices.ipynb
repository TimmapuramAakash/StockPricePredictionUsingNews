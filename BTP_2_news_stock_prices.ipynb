{
 "cells": [
  {
   "cell_type": "code",
   "execution_count": 86,
   "metadata": {},
   "outputs": [],
   "source": [
    "\n",
    "import tweepy\n",
    "import pandas as pd\n",
    "import numpy as np"
   ]
  },
  {
   "cell_type": "code",
   "execution_count": 1,
   "metadata": {},
   "outputs": [],
   "source": [
    "from IPython.display import display\n",
    "import matplotlib.pyplot as plt\n",
    "import seaborn as sns\n",
    "%matplotlib inline"
   ]
  },
  {
   "cell_type": "code",
   "execution_count": 88,
   "metadata": {},
   "outputs": [],
   "source": [
    "consumer_key='0RPVMWgT3f38gtSYrKTmV6l6x'\n",
    "consumer_secret='8KWXf50tdxyFa2oQzJAoJM58UDtPt0zztQeOp2bcIbDGARtsLH'\n",
    "access_token='access token here'",
    "access_token_secret='access token  secret here'",
    "def twitter_setup():\n",
    "    auth=tweepy.OAuthHandler(consumer_key,consumer_secret)\n",
    "    auth.set_access_token(access_token,access_token_secret)\n",
    "    api = tweepy.API(auth)\n",
    "    return api\n"
   ]
  },
  {
   "cell_type": "code",
   "execution_count": 89,
   "metadata": {
    "scrolled": true
   },
   "outputs": [
    {
     "name": "stdout",
     "output_type": "stream",
     "text": [
      "number of tweets extracted: 200.\n",
      "\n",
      "5 recent tweets:\n",
      "\n",
      "Thanks @LinkedIn for recognizing us as the #2 Top Company in 2019! #facebooklife https://t.co/KEuhe8CTvj https://t.co/ypAoaPOzhD\n",
      "\n",
      "@yoongistits Hi there. If you can't reset your password because you can't access the email on your account, learn a… https://t.co/LSDgjBc2BT\n",
      "\n",
      "@timp_brown Hi Tim. Reports from people on Facebook help us identify and fix problems when something's not working… https://t.co/k07nLMSHcQ\n",
      "\n",
      "@Pushpen60132973 Hi Pushpendra. Here are some things you can try to get back into your account so you can reset you… https://t.co/yxdpbfILA4\n",
      "\n",
      "@Twanyin Hi Wanyin. Please reach out to the Facebook Business Page about what you're experiencing with your ad here… https://t.co/n9uW13KQai\n",
      "\n"
     ]
    }
   ],
   "source": [
    "\n",
    "extractor = twitter_setup()\n",
    "\n",
    "tweets = extractor.user_timeline(screen_name=\"Facebook\", count = 1000)\n",
    "print(\"number of tweets extracted: {}.\\n\".format(len(tweets)))\n",
    "\n",
    "print(\"5 recent tweets:\\n\")\n",
    "for tweet in tweets[:5]:\n",
    "    print(tweet.text)\n",
    "    print()"
   ]
  },
  {
   "cell_type": "code",
   "execution_count": 90,
   "metadata": {},
   "outputs": [
    {
     "data": {
      "text/html": [
       "<div>\n",
       "<style scoped>\n",
       "    .dataframe tbody tr th:only-of-type {\n",
       "        vertical-align: middle;\n",
       "    }\n",
       "\n",
       "    .dataframe tbody tr th {\n",
       "        vertical-align: top;\n",
       "    }\n",
       "\n",
       "    .dataframe thead th {\n",
       "        text-align: right;\n",
       "    }\n",
       "</style>\n",
       "<table border=\"1\" class=\"dataframe\">\n",
       "  <thead>\n",
       "    <tr style=\"text-align: right;\">\n",
       "      <th></th>\n",
       "      <th>tweets</th>\n",
       "    </tr>\n",
       "  </thead>\n",
       "  <tbody>\n",
       "    <tr>\n",
       "      <th>0</th>\n",
       "      <td>Thanks @LinkedIn for recognizing us as the #2 ...</td>\n",
       "    </tr>\n",
       "    <tr>\n",
       "      <th>1</th>\n",
       "      <td>@yoongistits Hi there. If you can't reset your...</td>\n",
       "    </tr>\n",
       "    <tr>\n",
       "      <th>2</th>\n",
       "      <td>@timp_brown Hi Tim. Reports from people on Fac...</td>\n",
       "    </tr>\n",
       "    <tr>\n",
       "      <th>3</th>\n",
       "      <td>@Pushpen60132973 Hi Pushpendra. Here are some ...</td>\n",
       "    </tr>\n",
       "    <tr>\n",
       "      <th>4</th>\n",
       "      <td>@Twanyin Hi Wanyin. Please reach out to the Fa...</td>\n",
       "    </tr>\n",
       "    <tr>\n",
       "      <th>5</th>\n",
       "      <td>@alexiswoods Hi there. We first recommend upda...</td>\n",
       "    </tr>\n",
       "    <tr>\n",
       "      <th>6</th>\n",
       "      <td>@MissJillTracey Thanks for sharing, Jill! -KN</td>\n",
       "    </tr>\n",
       "    <tr>\n",
       "      <th>7</th>\n",
       "      <td>@PKYego_ Hi there. You can learn more about th...</td>\n",
       "    </tr>\n",
       "    <tr>\n",
       "      <th>8</th>\n",
       "      <td>@pankajm77156709 Hi Pankaj. If you can't reset...</td>\n",
       "    </tr>\n",
       "    <tr>\n",
       "      <th>9</th>\n",
       "      <td>@capt_otieno Hi there. You can find out how to...</td>\n",
       "    </tr>\n",
       "  </tbody>\n",
       "</table>\n",
       "</div>"
      ],
      "text/plain": [
       "                                              tweets\n",
       "0  Thanks @LinkedIn for recognizing us as the #2 ...\n",
       "1  @yoongistits Hi there. If you can't reset your...\n",
       "2  @timp_brown Hi Tim. Reports from people on Fac...\n",
       "3  @Pushpen60132973 Hi Pushpendra. Here are some ...\n",
       "4  @Twanyin Hi Wanyin. Please reach out to the Fa...\n",
       "5  @alexiswoods Hi there. We first recommend upda...\n",
       "6      @MissJillTracey Thanks for sharing, Jill! -KN\n",
       "7  @PKYego_ Hi there. You can learn more about th...\n",
       "8  @pankajm77156709 Hi Pankaj. If you can't reset...\n",
       "9  @capt_otieno Hi there. You can find out how to..."
      ]
     },
     "metadata": {},
     "output_type": "display_data"
    }
   ],
   "source": [
    "\n",
    "data = pd.DataFrame(data=[tweet.text for tweet in tweets], columns=['tweets'])\n",
    "\n",
    "display(data.head(10))"
   ]
  },
  {
   "cell_type": "code",
   "execution_count": 91,
   "metadata": {},
   "outputs": [
    {
     "name": "stdout",
     "output_type": "stream",
     "text": [
      "1113549450025132032\n",
      "2019-04-03 21:10:52\n",
      "Twitter Web Client\n",
      "144\n",
      "30\n",
      "None\n",
      "None\n",
      "{'hashtags': [{'text': 'facebooklife', 'indices': [67, 80]}], 'symbols': [], 'user_mentions': [{'screen_name': 'LinkedIn', 'name': 'LinkedIn', 'id': 13058772, 'id_str': '13058772', 'indices': [7, 16]}], 'urls': [{'url': 'https://t.co/KEuhe8CTvj', 'expanded_url': 'http://www.fb.careers/apply', 'display_url': 'fb.careers/apply', 'indices': [81, 104]}, {'url': 'https://t.co/ypAoaPOzhD', 'expanded_url': 'https://twitter.com/LinkedIn/status/1113497257838563331', 'display_url': 'twitter.com/LinkedIn/statu…', 'indices': [105, 128]}]}\n"
     ]
    }
   ],
   "source": [
    "\n",
    "# We print info from the first tweet:\n",
    "\n",
    "print(tweets[0].id)\n",
    "print(tweets[0].created_at)\n",
    "print(tweets[0].source)\n",
    "print(tweets[0].favorite_count)\n",
    "print(tweets[0].retweet_count)\n",
    "print(tweets[0].geo)\n",
    "print(tweets[0].coordinates)\n",
    "print(tweets[0].entities)"
   ]
  },
  {
   "cell_type": "code",
   "execution_count": 92,
   "metadata": {},
   "outputs": [],
   "source": [
    "\n",
    "# We add relevant data\n",
    "data['len'] = np.array([len(tweet.text) for tweet in tweets])\n",
    "data['ID'] = np.array([tweet.id for tweet in tweets])\n",
    "data['Date'] = np.array([tweet.created_at for tweet in tweets])\n",
    "data['Source'] = np.array([tweet.source for tweet in tweets])\n",
    "data['Likes'] = np.array([tweet.favorite_count for tweet in tweets])\n",
    "data['RTs'] = np.array([tweet.retweet_count for tweet in tweets])"
   ]
  },
  {
   "cell_type": "code",
   "execution_count": 94,
   "metadata": {},
   "outputs": [
    {
     "data": {
      "text/html": [
       "<div>\n",
       "<style scoped>\n",
       "    .dataframe tbody tr th:only-of-type {\n",
       "        vertical-align: middle;\n",
       "    }\n",
       "\n",
       "    .dataframe tbody tr th {\n",
       "        vertical-align: top;\n",
       "    }\n",
       "\n",
       "    .dataframe thead th {\n",
       "        text-align: right;\n",
       "    }\n",
       "</style>\n",
       "<table border=\"1\" class=\"dataframe\">\n",
       "  <thead>\n",
       "    <tr style=\"text-align: right;\">\n",
       "      <th></th>\n",
       "      <th>tweets</th>\n",
       "      <th>len</th>\n",
       "      <th>ID</th>\n",
       "      <th>Date</th>\n",
       "      <th>Source</th>\n",
       "      <th>Likes</th>\n",
       "      <th>RTs</th>\n",
       "    </tr>\n",
       "  </thead>\n",
       "  <tbody>\n",
       "    <tr>\n",
       "      <th>0</th>\n",
       "      <td>Thanks @LinkedIn for recognizing us as the #2 ...</td>\n",
       "      <td>128</td>\n",
       "      <td>1113549450025132032</td>\n",
       "      <td>2019-04-03 21:10:52</td>\n",
       "      <td>Twitter Web Client</td>\n",
       "      <td>144</td>\n",
       "      <td>30</td>\n",
       "    </tr>\n",
       "    <tr>\n",
       "      <th>1</th>\n",
       "      <td>@yoongistits Hi there. If you can't reset your...</td>\n",
       "      <td>140</td>\n",
       "      <td>1113525690689818625</td>\n",
       "      <td>2019-04-03 19:36:27</td>\n",
       "      <td>Spredfast app</td>\n",
       "      <td>0</td>\n",
       "      <td>0</td>\n",
       "    </tr>\n",
       "    <tr>\n",
       "      <th>2</th>\n",
       "      <td>@timp_brown Hi Tim. Reports from people on Fac...</td>\n",
       "      <td>139</td>\n",
       "      <td>1113525598603943937</td>\n",
       "      <td>2019-04-03 19:36:05</td>\n",
       "      <td>Spredfast app</td>\n",
       "      <td>0</td>\n",
       "      <td>0</td>\n",
       "    </tr>\n",
       "    <tr>\n",
       "      <th>3</th>\n",
       "      <td>@Pushpen60132973 Hi Pushpendra. Here are some ...</td>\n",
       "      <td>140</td>\n",
       "      <td>1113525421113585664</td>\n",
       "      <td>2019-04-03 19:35:23</td>\n",
       "      <td>Spredfast app</td>\n",
       "      <td>0</td>\n",
       "      <td>0</td>\n",
       "    </tr>\n",
       "    <tr>\n",
       "      <th>4</th>\n",
       "      <td>@Twanyin Hi Wanyin. Please reach out to the Fa...</td>\n",
       "      <td>140</td>\n",
       "      <td>1113525285276745731</td>\n",
       "      <td>2019-04-03 19:34:50</td>\n",
       "      <td>Spredfast app</td>\n",
       "      <td>0</td>\n",
       "      <td>0</td>\n",
       "    </tr>\n",
       "    <tr>\n",
       "      <th>5</th>\n",
       "      <td>@alexiswoods Hi there. We first recommend upda...</td>\n",
       "      <td>140</td>\n",
       "      <td>1113525115793354753</td>\n",
       "      <td>2019-04-03 19:34:10</td>\n",
       "      <td>Spredfast app</td>\n",
       "      <td>0</td>\n",
       "      <td>0</td>\n",
       "    </tr>\n",
       "    <tr>\n",
       "      <th>6</th>\n",
       "      <td>@MissJillTracey Thanks for sharing, Jill! -KN</td>\n",
       "      <td>45</td>\n",
       "      <td>1113524929104875520</td>\n",
       "      <td>2019-04-03 19:33:26</td>\n",
       "      <td>Spredfast app</td>\n",
       "      <td>0</td>\n",
       "      <td>0</td>\n",
       "    </tr>\n",
       "    <tr>\n",
       "      <th>7</th>\n",
       "      <td>@PKYego_ Hi there. You can learn more about th...</td>\n",
       "      <td>131</td>\n",
       "      <td>1113524837551677440</td>\n",
       "      <td>2019-04-03 19:33:04</td>\n",
       "      <td>Spredfast app</td>\n",
       "      <td>0</td>\n",
       "      <td>0</td>\n",
       "    </tr>\n",
       "    <tr>\n",
       "      <th>8</th>\n",
       "      <td>@pankajm77156709 Hi Pankaj. If you can't reset...</td>\n",
       "      <td>140</td>\n",
       "      <td>1113213536501678080</td>\n",
       "      <td>2019-04-02 22:56:04</td>\n",
       "      <td>Spredfast app</td>\n",
       "      <td>3</td>\n",
       "      <td>10</td>\n",
       "    </tr>\n",
       "    <tr>\n",
       "      <th>9</th>\n",
       "      <td>@capt_otieno Hi there. You can find out how to...</td>\n",
       "      <td>124</td>\n",
       "      <td>1113211900286910464</td>\n",
       "      <td>2019-04-02 22:49:34</td>\n",
       "      <td>Spredfast app</td>\n",
       "      <td>0</td>\n",
       "      <td>0</td>\n",
       "    </tr>\n",
       "  </tbody>\n",
       "</table>\n",
       "</div>"
      ],
      "text/plain": [
       "                                              tweets  len  \\\n",
       "0  Thanks @LinkedIn for recognizing us as the #2 ...  128   \n",
       "1  @yoongistits Hi there. If you can't reset your...  140   \n",
       "2  @timp_brown Hi Tim. Reports from people on Fac...  139   \n",
       "3  @Pushpen60132973 Hi Pushpendra. Here are some ...  140   \n",
       "4  @Twanyin Hi Wanyin. Please reach out to the Fa...  140   \n",
       "5  @alexiswoods Hi there. We first recommend upda...  140   \n",
       "6      @MissJillTracey Thanks for sharing, Jill! -KN   45   \n",
       "7  @PKYego_ Hi there. You can learn more about th...  131   \n",
       "8  @pankajm77156709 Hi Pankaj. If you can't reset...  140   \n",
       "9  @capt_otieno Hi there. You can find out how to...  124   \n",
       "\n",
       "                    ID                Date              Source  Likes  RTs  \n",
       "0  1113549450025132032 2019-04-03 21:10:52  Twitter Web Client    144   30  \n",
       "1  1113525690689818625 2019-04-03 19:36:27       Spredfast app      0    0  \n",
       "2  1113525598603943937 2019-04-03 19:36:05       Spredfast app      0    0  \n",
       "3  1113525421113585664 2019-04-03 19:35:23       Spredfast app      0    0  \n",
       "4  1113525285276745731 2019-04-03 19:34:50       Spredfast app      0    0  \n",
       "5  1113525115793354753 2019-04-03 19:34:10       Spredfast app      0    0  \n",
       "6  1113524929104875520 2019-04-03 19:33:26       Spredfast app      0    0  \n",
       "7  1113524837551677440 2019-04-03 19:33:04       Spredfast app      0    0  \n",
       "8  1113213536501678080 2019-04-02 22:56:04       Spredfast app      3   10  \n",
       "9  1113211900286910464 2019-04-02 22:49:34       Spredfast app      0    0  "
      ]
     },
     "metadata": {},
     "output_type": "display_data"
    },
    {
     "data": {
      "text/plain": [
       "['tweets', 'len', 'ID', 'Date', 'Source', 'Likes', 'RTs']"
      ]
     },
     "execution_count": 94,
     "metadata": {},
     "output_type": "execute_result"
    }
   ],
   "source": [
    "display(data.head(10))\n",
    "list(data)"
   ]
  },
  {
   "cell_type": "code",
   "execution_count": 23,
   "metadata": {},
   "outputs": [
    {
     "name": "stdout",
     "output_type": "stream",
     "text": [
      "the length's average in tweets: 125.825\n"
     ]
    }
   ],
   "source": [
    "\n",
    "# Visualization and basic stats\n",
    "\n",
    "# We extract the mean of length\n",
    "\n",
    "mean = np.mean(data['len'])\n",
    "print(\"the length's average in tweets: {}\".format(mean))"
   ]
  },
  {
   "cell_type": "code",
   "execution_count": 24,
   "metadata": {},
   "outputs": [
    {
     "name": "stdout",
     "output_type": "stream",
     "text": [
      "the tweet with more likes is: \n",
      "We’re aware that some people are currently having trouble accessing the Facebook family of apps. We’re working to r… https://t.co/A1BEzjeSUc\n",
      "Number of likes: 49566\n",
      "140 character.\n",
      "\n",
      "The tweet with more retweets is: \n",
      "We’re aware that some people are currently having trouble accessing the Facebook family of apps. We’re working to r… https://t.co/A1BEzjeSUc\n",
      "Number of retweets: 20009\n",
      "140 character.\n",
      "\n"
     ]
    }
   ],
   "source": [
    "\n",
    "# We extract the tweet with more FAVs and mote RTs:\n",
    "\n",
    "fav_max = np.max(data['Likes'])\n",
    "rt_max = np.max(data['RTs'])\n",
    "\n",
    "fav = data[data.Likes == fav_max].index[0]\n",
    "rt = data[data.RTs == rt_max].index[0]\n",
    "\n",
    "# Max FAVs:\n",
    "print(\"the tweet with more likes is: \\n{}\".format(data['tweets'][fav]))\n",
    "print(\"Number of likes: {}\".format(fav_max))\n",
    "print(\"{} character.\\n\".format(data['len'][fav]))\n",
    "\n",
    "# Max RTs:\n",
    "print(\"The tweet with more retweets is: \\n{}\".format(data['tweets'][rt]))\n",
    "print(\"Number of retweets: {}\".format(rt_max))\n",
    "print(\"{} character.\\n\".format(data['len'][rt]))"
   ]
  },
  {
   "cell_type": "code",
   "execution_count": 25,
   "metadata": {},
   "outputs": [],
   "source": [
    "\n",
    "tlen = pd.Series(data = data['len'].values)   #, index=data['Data'])\n",
    "tfav = pd.Series(data = data['Likes'].values)   #, index=data['Data'])\n",
    "tret = pd.Series(data = data['RTs'].values) #, index=data['Data']"
   ]
  },
  {
   "cell_type": "code",
   "execution_count": 26,
   "metadata": {},
   "outputs": [
    {
     "data": {
      "text/plain": [
       "<matplotlib.axes._subplots.AxesSubplot at 0x7fa56c1a9f28>"
      ]
     },
     "execution_count": 26,
     "metadata": {},
     "output_type": "execute_result"
    },
    {
     "data": {
      "image/png": "[encoded data removed]",
      "text/plain": [
       "<matplotlib.figure.Figure at 0x7fa575307470>"
      ]
     },
     "metadata": {},
     "output_type": "display_data"
    }
   ],
   "source": [
    "tlen.plot(figsize=(16,4), label=\"Length of tweets\", legend=True)"
   ]
  },
  {
   "cell_type": "code",
   "execution_count": 27,
   "metadata": {},
   "outputs": [
    {
     "data": {
      "image/png": "[encoded data removed]",
      "text/plain": [
       "<matplotlib.figure.Figure at 0x7fa57498df60>"
      ]
     },
     "metadata": {},
     "output_type": "display_data"
    }
   ],
   "source": [
    "\n",
    "# Likes vs retweets visualization:\n",
    "tfav.plot(figsize=(16,4), label=\"Likes\", legend=True)\n",
    "tret.plot(figsize=(16,4), label=\"Retweets\", legend=True);"
   ]
  },
  {
   "cell_type": "code",
   "execution_count": 28,
   "metadata": {},
   "outputs": [
    {
     "name": "stdout",
     "output_type": "stream",
     "text": [
      "Creation of content sources:\n",
      "* Twitter Web Client\n",
      "* Spredfast app\n",
      "* Twitter for iPhone\n",
      "* TweetDeck\n"
     ]
    }
   ],
   "source": [
    "\n",
    "# We obtain all possible sources:\n",
    "sources = []\n",
    "for source in data['Source']:\n",
    "    if source not in sources:\n",
    "        sources.append(source)\n",
    "\n",
    "# We print sources list:\n",
    "print(\"Creation of content sources:\")\n",
    "for source in sources:\n",
    "    print(\"* {}\".format(source))"
   ]
  },
  {
   "cell_type": "code",
   "execution_count": 29,
   "metadata": {},
   "outputs": [
    {
     "data": {
      "image/png": "[encoded data removed]",
      "text/plain": [
       "<matplotlib.figure.Figure at 0x7fa56bfb2a20>"
      ]
     },
     "metadata": {},
     "output_type": "display_data"
    }
   ],
   "source": [
    "\n",
    "# We create a numpy vector mapped to labels:\n",
    "percent = np.zeros(len(sources))\n",
    "\n",
    "for source in data['Source']:\n",
    "    for index in range(len(sources)):\n",
    "        if source == sources[index]:\n",
    "            percent[index] += 1\n",
    "            pass\n",
    "\n",
    "percent /= 100\n",
    "\n",
    "# Pie chart:\n",
    "pie_chart = pd.Series(percent, index=sources, name='Sources')\n",
    "pie_chart.plot.pie(fontsize=11, autopct='%.2f', figsize=(6, 6));"
   ]
  },
  {
   "cell_type": "code",
   "execution_count": 30,
   "metadata": {},
   "outputs": [],
   "source": [
    "\n",
    "from textblob import TextBlob\n",
    "import re\n",
    "\n",
    "def clean_tweet(tweet):\n",
    "    '''\n",
    "    Utility function to clean the text in a tweet by removing \n",
    "    links and special characters using regex.\n",
    "    '''\n",
    "    return ' '.join(re.sub(\"(@[A-Za-z0-9]+)|([^0-9A-Za-z \\t])|(\\w+:\\/\\/\\S+)\", \" \", tweet).split())\n",
    "\n",
    "def analize_sentiment(tweet):\n",
    "    '''\n",
    "    Utility function to classify the polarity of a tweet\n",
    "    using textblob.\n",
    "    '''\n",
    "    analysis = TextBlob(clean_tweet(tweet))\n",
    "    if analysis.sentiment.polarity > 0:\n",
    "        return 1\n",
    "    elif analysis.sentiment.polarity == 0:\n",
    "        return 0\n",
    "    else:\n",
    "        return -1\n",
    "    "
   ]
  },
  {
   "cell_type": "code",
   "execution_count": 31,
   "metadata": {},
   "outputs": [],
   "source": [
    "l=[]\n",
    "for k in data.tweets:\n",
    "    l.append(analize_sentiment(k))\n",
    "data['SA'] = l\n"
   ]
  },
  {
   "cell_type": "code",
   "execution_count": 32,
   "metadata": {},
   "outputs": [],
   "source": [
    "\n",
    "# We construct lists with classified tweets:\n",
    "\n",
    "pos_tweets = [ tweet for index, tweet in enumerate(data['tweets']) if data['SA'][index] > 0]\n",
    "neu_tweets = [ tweet for index, tweet in enumerate(data['tweets']) if data['SA'][index] == 0]\n",
    "neg_tweets = [ tweet for index, tweet in enumerate(data['tweets']) if data['SA'][index] < 0]"
   ]
  },
  {
   "cell_type": "code",
   "execution_count": 33,
   "metadata": {},
   "outputs": [
    {
     "name": "stdout",
     "output_type": "stream",
     "text": [
      "Percentage of positive tweets: 51.0%\n",
      "Percentage of neutral tweets: 37.0%\n",
      "Percentage de negative tweets: 12.0%\n"
     ]
    }
   ],
   "source": [
    "\n",
    "# We print percentages:\n",
    "\n",
    "print(\"Percentage of positive tweets: {}%\".format(len(pos_tweets)*100/len(data['tweets'])))\n",
    "print(\"Percentage of neutral tweets: {}%\".format(len(neu_tweets)*100/len(data['tweets'])))\n",
    "print(\"Percentage de negative tweets: {}%\".format(len(neg_tweets)*100/len(data['tweets'])))"
   ]
  },
  {
   "cell_type": "code",
   "execution_count": 34,
   "metadata": {},
   "outputs": [],
   "source": [
    "data.to_csv('/home/aakash/Desktop/BTP_2/data.csv')"
   ]
  },
  {
   "cell_type": "code",
   "execution_count": 35,
   "metadata": {},
   "outputs": [],
   "source": [
    "l=[]\n",
    "import datetime\n",
    "for i in range(len(data)):\n",
    "    l.append(str(data[\"Date\"][i].date()))       # for particular date 0-31 .strftime(\"%d\")\n",
    "data[\"new_date\"]=l\n"
   ]
  },
  {
   "cell_type": "code",
   "execution_count": 36,
   "metadata": {},
   "outputs": [],
   "source": [
    "df=data.loc[:, [\"tweets\", \"new_date\"]]"
   ]
  },
  {
   "cell_type": "code",
   "execution_count": 37,
   "metadata": {},
   "outputs": [],
   "source": [
    "d={}\n",
    "for i in range(len(df)):\n",
    "    if df['new_date'][i] in df:\n",
    "        d[df['new_date'][i]].append(df['tweets'][i])\n",
    "    else:\n",
    "        d[df['new_date'][i]]=[]\n",
    "        d[df['new_date'][i]].append(df['tweets'][i])\n",
    "\n"
   ]
  },
  {
   "cell_type": "code",
   "execution_count": 38,
   "metadata": {},
   "outputs": [],
   "source": [
    "df_1=pd.DataFrame.from_dict(d, orient='index')\n",
    "df_1.index.name = 'Date'\n",
    "df_1=df_1.reset_index()\n",
    "df_1 = df_1.rename(columns={0: 'tweets_on_that_day'})"
   ]
  },
  {
   "cell_type": "code",
   "execution_count": 39,
   "metadata": {},
   "outputs": [
    {
     "data": {
      "text/html": [
       "<div>\n",
       "<style scoped>\n",
       "    .dataframe tbody tr th:only-of-type {\n",
       "        vertical-align: middle;\n",
       "    }\n",
       "\n",
       "    .dataframe tbody tr th {\n",
       "        vertical-align: top;\n",
       "    }\n",
       "\n",
       "    .dataframe thead th {\n",
       "        text-align: right;\n",
       "    }\n",
       "</style>\n",
       "<table border=\"1\" class=\"dataframe\">\n",
       "  <thead>\n",
       "    <tr style=\"text-align: right;\">\n",
       "      <th></th>\n",
       "      <th>Date</th>\n",
       "      <th>tweets_on_that_day</th>\n",
       "    </tr>\n",
       "  </thead>\n",
       "  <tbody>\n",
       "    <tr>\n",
       "      <th>0</th>\n",
       "      <td>2019-04-03</td>\n",
       "      <td>@PKYego_ Hi there. You can learn more about th...</td>\n",
       "    </tr>\n",
       "    <tr>\n",
       "      <th>1</th>\n",
       "      <td>2019-04-02</td>\n",
       "      <td>@RaoSunilkumar0 Hi there. If you think your fr...</td>\n",
       "    </tr>\n",
       "    <tr>\n",
       "      <th>2</th>\n",
       "      <td>2019-04-01</td>\n",
       "      <td>Not sure why you're seeing a certain post in y...</td>\n",
       "    </tr>\n",
       "    <tr>\n",
       "      <th>3</th>\n",
       "      <td>2019-03-30</td>\n",
       "      <td>Congrats to the @RedTableTalk team!!! https://...</td>\n",
       "    </tr>\n",
       "    <tr>\n",
       "      <th>4</th>\n",
       "      <td>2019-03-29</td>\n",
       "      <td>Thank you to the @HRC for naming Facebook a “B...</td>\n",
       "    </tr>\n",
       "    <tr>\n",
       "      <th>5</th>\n",
       "      <td>2019-03-28</td>\n",
       "      <td>@jakethejeep Hi John. Reports from people on F...</td>\n",
       "    </tr>\n",
       "    <tr>\n",
       "      <th>6</th>\n",
       "      <td>2019-03-27</td>\n",
       "      <td>RT @people: Facebook Introduces New Measures t...</td>\n",
       "    </tr>\n",
       "    <tr>\n",
       "      <th>7</th>\n",
       "      <td>2019-03-26</td>\n",
       "      <td>@SunilShankarJ1 We're sorry to hear about this...</td>\n",
       "    </tr>\n",
       "    <tr>\n",
       "      <th>8</th>\n",
       "      <td>2019-03-25</td>\n",
       "      <td>RT @CNET: How Facebook helps people with HIV s...</td>\n",
       "    </tr>\n",
       "    <tr>\n",
       "      <th>9</th>\n",
       "      <td>2019-03-22</td>\n",
       "      <td>@AashiqMachar Hi Aashiq. Please reach out to t...</td>\n",
       "    </tr>\n",
       "    <tr>\n",
       "      <th>10</th>\n",
       "      <td>2019-03-21</td>\n",
       "      <td>RT @fbnewsroom: This morning we announced an i...</td>\n",
       "    </tr>\n",
       "    <tr>\n",
       "      <th>11</th>\n",
       "      <td>2019-03-20</td>\n",
       "      <td>RT @oculus: Announcing Oculus Rift S, Our New ...</td>\n",
       "    </tr>\n",
       "    <tr>\n",
       "      <th>12</th>\n",
       "      <td>2019-03-19</td>\n",
       "      <td>RT @instagram: Today, we're introducing checko...</td>\n",
       "    </tr>\n",
       "    <tr>\n",
       "      <th>13</th>\n",
       "      <td>2019-03-18</td>\n",
       "      <td>@alvinashiembi Hi Alvin. If you think your fri...</td>\n",
       "    </tr>\n",
       "    <tr>\n",
       "      <th>14</th>\n",
       "      <td>2019-03-14</td>\n",
       "      <td>Yesterday, as a result of a server configurati...</td>\n",
       "    </tr>\n",
       "    <tr>\n",
       "      <th>15</th>\n",
       "      <td>2019-03-13</td>\n",
       "      <td>RT @WIRED: For all the progress VR has made ov...</td>\n",
       "    </tr>\n",
       "    <tr>\n",
       "      <th>16</th>\n",
       "      <td>2019-03-12</td>\n",
       "      <td>@3lechi Hi there. If you believe your account ...</td>\n",
       "    </tr>\n",
       "    <tr>\n",
       "      <th>17</th>\n",
       "      <td>2019-03-11</td>\n",
       "      <td>@rosariomagos Thanks for sharing, Rosario. We'...</td>\n",
       "    </tr>\n",
       "    <tr>\n",
       "      <th>18</th>\n",
       "      <td>2019-03-09</td>\n",
       "      <td>@moigeshmarion Hi Marion. If you're having tro...</td>\n",
       "    </tr>\n",
       "    <tr>\n",
       "      <th>19</th>\n",
       "      <td>2019-03-08</td>\n",
       "      <td>Everyday, women are building meaningful commun...</td>\n",
       "    </tr>\n",
       "    <tr>\n",
       "      <th>20</th>\n",
       "      <td>2019-03-07</td>\n",
       "      <td>@AmandaWaterma11 Hi there. If you're having tr...</td>\n",
       "    </tr>\n",
       "    <tr>\n",
       "      <th>21</th>\n",
       "      <td>2019-03-06</td>\n",
       "      <td>Sharing a note from Mark Zuckerberg: “A Privac...</td>\n",
       "    </tr>\n",
       "    <tr>\n",
       "      <th>22</th>\n",
       "      <td>2019-03-05</td>\n",
       "      <td>@GraceSimmons94 Hi Grace. Please reach out to ...</td>\n",
       "    </tr>\n",
       "    <tr>\n",
       "      <th>23</th>\n",
       "      <td>2019-03-04</td>\n",
       "      <td>love this 😊 https://t.co/Tl2jSg6cPQ</td>\n",
       "    </tr>\n",
       "    <tr>\n",
       "      <th>24</th>\n",
       "      <td>2019-03-02</td>\n",
       "      <td>RT @instagram: Participate in this weekend’s h...</td>\n",
       "    </tr>\n",
       "    <tr>\n",
       "      <th>25</th>\n",
       "      <td>2019-03-01</td>\n",
       "      <td>@PeterDjerf Hi Peter. Please reach out to the ...</td>\n",
       "    </tr>\n",
       "    <tr>\n",
       "      <th>26</th>\n",
       "      <td>2019-02-28</td>\n",
       "      <td>“My artwork derives from a place of imagining ...</td>\n",
       "    </tr>\n",
       "    <tr>\n",
       "      <th>27</th>\n",
       "      <td>2019-02-27</td>\n",
       "      <td>\"My work focuses on African women, their healt...</td>\n",
       "    </tr>\n",
       "    <tr>\n",
       "      <th>28</th>\n",
       "      <td>2019-02-26</td>\n",
       "      <td>@nfornyejah Thanks for sharing, Nyejah! We're ...</td>\n",
       "    </tr>\n",
       "    <tr>\n",
       "      <th>29</th>\n",
       "      <td>2019-02-22</td>\n",
       "      <td>@ummpuya Hi Puya. You can find those sections ...</td>\n",
       "    </tr>\n",
       "    <tr>\n",
       "      <th>30</th>\n",
       "      <td>2019-02-21</td>\n",
       "      <td>RT @people: Instagram Launches #ShareBlackStor...</td>\n",
       "    </tr>\n",
       "  </tbody>\n",
       "</table>\n",
       "</div>"
      ],
      "text/plain": [
       "          Date                                 tweets_on_that_day\n",
       "0   2019-04-03  @PKYego_ Hi there. You can learn more about th...\n",
       "1   2019-04-02  @RaoSunilkumar0 Hi there. If you think your fr...\n",
       "2   2019-04-01  Not sure why you're seeing a certain post in y...\n",
       "3   2019-03-30  Congrats to the @RedTableTalk team!!! https://...\n",
       "4   2019-03-29  Thank you to the @HRC for naming Facebook a “B...\n",
       "5   2019-03-28  @jakethejeep Hi John. Reports from people on F...\n",
       "6   2019-03-27  RT @people: Facebook Introduces New Measures t...\n",
       "7   2019-03-26  @SunilShankarJ1 We're sorry to hear about this...\n",
       "8   2019-03-25  RT @CNET: How Facebook helps people with HIV s...\n",
       "9   2019-03-22  @AashiqMachar Hi Aashiq. Please reach out to t...\n",
       "10  2019-03-21  RT @fbnewsroom: This morning we announced an i...\n",
       "11  2019-03-20  RT @oculus: Announcing Oculus Rift S, Our New ...\n",
       "12  2019-03-19  RT @instagram: Today, we're introducing checko...\n",
       "13  2019-03-18  @alvinashiembi Hi Alvin. If you think your fri...\n",
       "14  2019-03-14  Yesterday, as a result of a server configurati...\n",
       "15  2019-03-13  RT @WIRED: For all the progress VR has made ov...\n",
       "16  2019-03-12  @3lechi Hi there. If you believe your account ...\n",
       "17  2019-03-11  @rosariomagos Thanks for sharing, Rosario. We'...\n",
       "18  2019-03-09  @moigeshmarion Hi Marion. If you're having tro...\n",
       "19  2019-03-08  Everyday, women are building meaningful commun...\n",
       "20  2019-03-07  @AmandaWaterma11 Hi there. If you're having tr...\n",
       "21  2019-03-06  Sharing a note from Mark Zuckerberg: “A Privac...\n",
       "22  2019-03-05  @GraceSimmons94 Hi Grace. Please reach out to ...\n",
       "23  2019-03-04                love this 😊 https://t.co/Tl2jSg6cPQ\n",
       "24  2019-03-02  RT @instagram: Participate in this weekend’s h...\n",
       "25  2019-03-01  @PeterDjerf Hi Peter. Please reach out to the ...\n",
       "26  2019-02-28  “My artwork derives from a place of imagining ...\n",
       "27  2019-02-27  \"My work focuses on African women, their healt...\n",
       "28  2019-02-26  @nfornyejah Thanks for sharing, Nyejah! We're ...\n",
       "29  2019-02-22  @ummpuya Hi Puya. You can find those sections ...\n",
       "30  2019-02-21  RT @people: Instagram Launches #ShareBlackStor..."
      ]
     },
     "execution_count": 39,
     "metadata": {},
     "output_type": "execute_result"
    }
   ],
   "source": [
    "df_1"
   ]
  },
  {
   "cell_type": "code",
   "execution_count": 40,
   "metadata": {},
   "outputs": [],
   "source": [
    "l=[]\n",
    "for k in df_1.tweets_on_that_day:\n",
    "    l.append(analize_sentiment(k))\n",
    "df_1['SA'] = l"
   ]
  },
  {
   "cell_type": "code",
   "execution_count": 41,
   "metadata": {},
   "outputs": [
    {
     "data": {
      "text/html": [
       "<div>\n",
       "<style scoped>\n",
       "    .dataframe tbody tr th:only-of-type {\n",
       "        vertical-align: middle;\n",
       "    }\n",
       "\n",
       "    .dataframe tbody tr th {\n",
       "        vertical-align: top;\n",
       "    }\n",
       "\n",
       "    .dataframe thead th {\n",
       "        text-align: right;\n",
       "    }\n",
       "</style>\n",
       "<table border=\"1\" class=\"dataframe\">\n",
       "  <thead>\n",
       "    <tr style=\"text-align: right;\">\n",
       "      <th></th>\n",
       "      <th>Date</th>\n",
       "      <th>tweets_on_that_day</th>\n",
       "      <th>SA</th>\n",
       "    </tr>\n",
       "  </thead>\n",
       "  <tbody>\n",
       "    <tr>\n",
       "      <th>15</th>\n",
       "      <td>2019-03-13</td>\n",
       "      <td>RT @WIRED: For all the progress VR has made ov...</td>\n",
       "      <td>-1</td>\n",
       "    </tr>\n",
       "    <tr>\n",
       "      <th>16</th>\n",
       "      <td>2019-03-12</td>\n",
       "      <td>@3lechi Hi there. If you believe your account ...</td>\n",
       "      <td>1</td>\n",
       "    </tr>\n",
       "    <tr>\n",
       "      <th>17</th>\n",
       "      <td>2019-03-11</td>\n",
       "      <td>@rosariomagos Thanks for sharing, Rosario. We'...</td>\n",
       "      <td>1</td>\n",
       "    </tr>\n",
       "    <tr>\n",
       "      <th>18</th>\n",
       "      <td>2019-03-09</td>\n",
       "      <td>@moigeshmarion Hi Marion. If you're having tro...</td>\n",
       "      <td>-1</td>\n",
       "    </tr>\n",
       "    <tr>\n",
       "      <th>19</th>\n",
       "      <td>2019-03-08</td>\n",
       "      <td>Everyday, women are building meaningful commun...</td>\n",
       "      <td>1</td>\n",
       "    </tr>\n",
       "    <tr>\n",
       "      <th>20</th>\n",
       "      <td>2019-03-07</td>\n",
       "      <td>@AmandaWaterma11 Hi there. If you're having tr...</td>\n",
       "      <td>-1</td>\n",
       "    </tr>\n",
       "    <tr>\n",
       "      <th>21</th>\n",
       "      <td>2019-03-06</td>\n",
       "      <td>Sharing a note from Mark Zuckerberg: “A Privac...</td>\n",
       "      <td>1</td>\n",
       "    </tr>\n",
       "    <tr>\n",
       "      <th>22</th>\n",
       "      <td>2019-03-05</td>\n",
       "      <td>@GraceSimmons94 Hi Grace. Please reach out to ...</td>\n",
       "      <td>0</td>\n",
       "    </tr>\n",
       "    <tr>\n",
       "      <th>23</th>\n",
       "      <td>2019-03-04</td>\n",
       "      <td>love this 😊 https://t.co/Tl2jSg6cPQ</td>\n",
       "      <td>1</td>\n",
       "    </tr>\n",
       "    <tr>\n",
       "      <th>24</th>\n",
       "      <td>2019-03-02</td>\n",
       "      <td>RT @instagram: Participate in this weekend’s h...</td>\n",
       "      <td>0</td>\n",
       "    </tr>\n",
       "  </tbody>\n",
       "</table>\n",
       "</div>"
      ],
      "text/plain": [
       "          Date                                 tweets_on_that_day  SA\n",
       "15  2019-03-13  RT @WIRED: For all the progress VR has made ov...  -1\n",
       "16  2019-03-12  @3lechi Hi there. If you believe your account ...   1\n",
       "17  2019-03-11  @rosariomagos Thanks for sharing, Rosario. We'...   1\n",
       "18  2019-03-09  @moigeshmarion Hi Marion. If you're having tro...  -1\n",
       "19  2019-03-08  Everyday, women are building meaningful commun...   1\n",
       "20  2019-03-07  @AmandaWaterma11 Hi there. If you're having tr...  -1\n",
       "21  2019-03-06  Sharing a note from Mark Zuckerberg: “A Privac...   1\n",
       "22  2019-03-05  @GraceSimmons94 Hi Grace. Please reach out to ...   0\n",
       "23  2019-03-04                love this 😊 https://t.co/Tl2jSg6cPQ   1\n",
       "24  2019-03-02  RT @instagram: Participate in this weekend’s h...   0"
      ]
     },
     "execution_count": 41,
     "metadata": {},
     "output_type": "execute_result"
    }
   ],
   "source": [
    "df_1[15:25]"
   ]
  },
  {
   "cell_type": "code",
   "execution_count": 42,
   "metadata": {},
   "outputs": [],
   "source": [
    "# now drop columns\n",
    "df_1=df_1.drop(['tweets_on_that_day'], axis=1)"
   ]
  },
  {
   "cell_type": "code",
   "execution_count": 43,
   "metadata": {},
   "outputs": [
    {
     "data": {
      "text/html": [
       "<div>\n",
       "<style scoped>\n",
       "    .dataframe tbody tr th:only-of-type {\n",
       "        vertical-align: middle;\n",
       "    }\n",
       "\n",
       "    .dataframe tbody tr th {\n",
       "        vertical-align: top;\n",
       "    }\n",
       "\n",
       "    .dataframe thead th {\n",
       "        text-align: right;\n",
       "    }\n",
       "</style>\n",
       "<table border=\"1\" class=\"dataframe\">\n",
       "  <thead>\n",
       "    <tr style=\"text-align: right;\">\n",
       "      <th></th>\n",
       "      <th>Date</th>\n",
       "      <th>SA</th>\n",
       "    </tr>\n",
       "  </thead>\n",
       "  <tbody>\n",
       "    <tr>\n",
       "      <th>0</th>\n",
       "      <td>2019-04-03</td>\n",
       "      <td>1</td>\n",
       "    </tr>\n",
       "    <tr>\n",
       "      <th>1</th>\n",
       "      <td>2019-04-02</td>\n",
       "      <td>1</td>\n",
       "    </tr>\n",
       "    <tr>\n",
       "      <th>2</th>\n",
       "      <td>2019-04-01</td>\n",
       "      <td>1</td>\n",
       "    </tr>\n",
       "    <tr>\n",
       "      <th>3</th>\n",
       "      <td>2019-03-30</td>\n",
       "      <td>0</td>\n",
       "    </tr>\n",
       "    <tr>\n",
       "      <th>4</th>\n",
       "      <td>2019-03-29</td>\n",
       "      <td>1</td>\n",
       "    </tr>\n",
       "  </tbody>\n",
       "</table>\n",
       "</div>"
      ],
      "text/plain": [
       "         Date  SA\n",
       "0  2019-04-03   1\n",
       "1  2019-04-02   1\n",
       "2  2019-04-01   1\n",
       "3  2019-03-30   0\n",
       "4  2019-03-29   1"
      ]
     },
     "execution_count": 43,
     "metadata": {},
     "output_type": "execute_result"
    }
   ],
   "source": [
    "df_1.head()"
   ]
  },
  {
   "cell_type": "code",
   "execution_count": 44,
   "metadata": {},
   "outputs": [],
   "source": [
    "data_1=pd.read_csv(\"/home/aakash/Desktop/BTP_2/data_2019_1_1.csv\")"
   ]
  },
  {
   "cell_type": "code",
   "execution_count": 45,
   "metadata": {},
   "outputs": [
    {
     "data": {
      "text/html": [
       "<div>\n",
       "<style scoped>\n",
       "    .dataframe tbody tr th:only-of-type {\n",
       "        vertical-align: middle;\n",
       "    }\n",
       "\n",
       "    .dataframe tbody tr th {\n",
       "        vertical-align: top;\n",
       "    }\n",
       "\n",
       "    .dataframe thead th {\n",
       "        text-align: right;\n",
       "    }\n",
       "</style>\n",
       "<table border=\"1\" class=\"dataframe\">\n",
       "  <thead>\n",
       "    <tr style=\"text-align: right;\">\n",
       "      <th></th>\n",
       "      <th>Date</th>\n",
       "      <th>Open</th>\n",
       "      <th>High</th>\n",
       "      <th>Low</th>\n",
       "      <th>Close</th>\n",
       "      <th>Volume</th>\n",
       "    </tr>\n",
       "  </thead>\n",
       "  <tbody>\n",
       "    <tr>\n",
       "      <th>0</th>\n",
       "      <td>1/2/2019 16:00:00</td>\n",
       "      <td>128.99</td>\n",
       "      <td>137.51</td>\n",
       "      <td>128.56</td>\n",
       "      <td>135.68</td>\n",
       "      <td>28146193</td>\n",
       "    </tr>\n",
       "    <tr>\n",
       "      <th>1</th>\n",
       "      <td>1/3/2019 16:00:00</td>\n",
       "      <td>134.69</td>\n",
       "      <td>137.17</td>\n",
       "      <td>131.12</td>\n",
       "      <td>131.74</td>\n",
       "      <td>22717948</td>\n",
       "    </tr>\n",
       "    <tr>\n",
       "      <th>2</th>\n",
       "      <td>1/4/2019 16:00:00</td>\n",
       "      <td>134.01</td>\n",
       "      <td>138.00</td>\n",
       "      <td>133.75</td>\n",
       "      <td>137.95</td>\n",
       "      <td>29002059</td>\n",
       "    </tr>\n",
       "    <tr>\n",
       "      <th>3</th>\n",
       "      <td>1/7/2019 16:00:00</td>\n",
       "      <td>137.56</td>\n",
       "      <td>138.87</td>\n",
       "      <td>135.91</td>\n",
       "      <td>138.05</td>\n",
       "      <td>20089337</td>\n",
       "    </tr>\n",
       "    <tr>\n",
       "      <th>4</th>\n",
       "      <td>1/8/2019 16:00:00</td>\n",
       "      <td>139.89</td>\n",
       "      <td>143.14</td>\n",
       "      <td>139.54</td>\n",
       "      <td>142.53</td>\n",
       "      <td>26263793</td>\n",
       "    </tr>\n",
       "  </tbody>\n",
       "</table>\n",
       "</div>"
      ],
      "text/plain": [
       "                Date    Open    High     Low   Close    Volume\n",
       "0  1/2/2019 16:00:00  128.99  137.51  128.56  135.68  28146193\n",
       "1  1/3/2019 16:00:00  134.69  137.17  131.12  131.74  22717948\n",
       "2  1/4/2019 16:00:00  134.01  138.00  133.75  137.95  29002059\n",
       "3  1/7/2019 16:00:00  137.56  138.87  135.91  138.05  20089337\n",
       "4  1/8/2019 16:00:00  139.89  143.14  139.54  142.53  26263793"
      ]
     },
     "execution_count": 45,
     "metadata": {},
     "output_type": "execute_result"
    }
   ],
   "source": [
    "data_1.head()"
   ]
  },
  {
   "cell_type": "code",
   "execution_count": 46,
   "metadata": {},
   "outputs": [],
   "source": [
    "from datetime import datetime\n",
    "l=[]\n",
    "for i in range(len(data_1)):\n",
    "    l.append(datetime.strptime(data_1.Date[i].split(\" \")[0].strip(), '%m/%d/%Y').strftime('%Y-%m-%d'))\n",
    "data_1[\"Date\"]=l\n"
   ]
  },
  {
   "cell_type": "code",
   "execution_count": 47,
   "metadata": {},
   "outputs": [
    {
     "data": {
      "text/html": [
       "<div>\n",
       "<style scoped>\n",
       "    .dataframe tbody tr th:only-of-type {\n",
       "        vertical-align: middle;\n",
       "    }\n",
       "\n",
       "    .dataframe tbody tr th {\n",
       "        vertical-align: top;\n",
       "    }\n",
       "\n",
       "    .dataframe thead th {\n",
       "        text-align: right;\n",
       "    }\n",
       "</style>\n",
       "<table border=\"1\" class=\"dataframe\">\n",
       "  <thead>\n",
       "    <tr style=\"text-align: right;\">\n",
       "      <th></th>\n",
       "      <th>Date</th>\n",
       "      <th>Open</th>\n",
       "      <th>High</th>\n",
       "      <th>Low</th>\n",
       "      <th>Close</th>\n",
       "      <th>Volume</th>\n",
       "    </tr>\n",
       "  </thead>\n",
       "  <tbody>\n",
       "    <tr>\n",
       "      <th>0</th>\n",
       "      <td>2019-01-02</td>\n",
       "      <td>128.99</td>\n",
       "      <td>137.51</td>\n",
       "      <td>128.56</td>\n",
       "      <td>135.68</td>\n",
       "      <td>28146193</td>\n",
       "    </tr>\n",
       "    <tr>\n",
       "      <th>1</th>\n",
       "      <td>2019-01-03</td>\n",
       "      <td>134.69</td>\n",
       "      <td>137.17</td>\n",
       "      <td>131.12</td>\n",
       "      <td>131.74</td>\n",
       "      <td>22717948</td>\n",
       "    </tr>\n",
       "    <tr>\n",
       "      <th>2</th>\n",
       "      <td>2019-01-04</td>\n",
       "      <td>134.01</td>\n",
       "      <td>138.00</td>\n",
       "      <td>133.75</td>\n",
       "      <td>137.95</td>\n",
       "      <td>29002059</td>\n",
       "    </tr>\n",
       "    <tr>\n",
       "      <th>3</th>\n",
       "      <td>2019-01-07</td>\n",
       "      <td>137.56</td>\n",
       "      <td>138.87</td>\n",
       "      <td>135.91</td>\n",
       "      <td>138.05</td>\n",
       "      <td>20089337</td>\n",
       "    </tr>\n",
       "    <tr>\n",
       "      <th>4</th>\n",
       "      <td>2019-01-08</td>\n",
       "      <td>139.89</td>\n",
       "      <td>143.14</td>\n",
       "      <td>139.54</td>\n",
       "      <td>142.53</td>\n",
       "      <td>26263793</td>\n",
       "    </tr>\n",
       "  </tbody>\n",
       "</table>\n",
       "</div>"
      ],
      "text/plain": [
       "         Date    Open    High     Low   Close    Volume\n",
       "0  2019-01-02  128.99  137.51  128.56  135.68  28146193\n",
       "1  2019-01-03  134.69  137.17  131.12  131.74  22717948\n",
       "2  2019-01-04  134.01  138.00  133.75  137.95  29002059\n",
       "3  2019-01-07  137.56  138.87  135.91  138.05  20089337\n",
       "4  2019-01-08  139.89  143.14  139.54  142.53  26263793"
      ]
     },
     "execution_count": 47,
     "metadata": {},
     "output_type": "execute_result"
    }
   ],
   "source": [
    "data_1.head()"
   ]
  },
  {
   "cell_type": "code",
   "execution_count": 48,
   "metadata": {},
   "outputs": [],
   "source": [
    "df2 = df_1.merge(data_1,on=\"Date\",how=\"right\")\n",
    "df2=df2.fillna(0)\n",
    "df2=df2.sort_values(by=['Date'])\n",
    "df2=df2.reset_index()\n",
    "df2=df2.drop(['index'], axis=1)\n",
    "            \n",
    "            \n",
    "            \n",
    "        "
   ]
  },
  {
   "cell_type": "code",
   "execution_count": 49,
   "metadata": {},
   "outputs": [
    {
     "data": {
      "text/html": [
       "<div>\n",
       "<style scoped>\n",
       "    .dataframe tbody tr th:only-of-type {\n",
       "        vertical-align: middle;\n",
       "    }\n",
       "\n",
       "    .dataframe tbody tr th {\n",
       "        vertical-align: top;\n",
       "    }\n",
       "\n",
       "    .dataframe thead th {\n",
       "        text-align: right;\n",
       "    }\n",
       "</style>\n",
       "<table border=\"1\" class=\"dataframe\">\n",
       "  <thead>\n",
       "    <tr style=\"text-align: right;\">\n",
       "      <th></th>\n",
       "      <th>Date</th>\n",
       "      <th>SA</th>\n",
       "      <th>Open</th>\n",
       "      <th>High</th>\n",
       "      <th>Low</th>\n",
       "      <th>Close</th>\n",
       "      <th>Volume</th>\n",
       "    </tr>\n",
       "  </thead>\n",
       "  <tbody>\n",
       "    <tr>\n",
       "      <th>56</th>\n",
       "      <td>2019-03-25</td>\n",
       "      <td>0.0</td>\n",
       "      <td>163.00</td>\n",
       "      <td>166.54</td>\n",
       "      <td>162.00</td>\n",
       "      <td>166.29</td>\n",
       "      <td>12631230</td>\n",
       "    </tr>\n",
       "    <tr>\n",
       "      <th>57</th>\n",
       "      <td>2019-03-26</td>\n",
       "      <td>-1.0</td>\n",
       "      <td>167.35</td>\n",
       "      <td>169.45</td>\n",
       "      <td>166.35</td>\n",
       "      <td>167.68</td>\n",
       "      <td>15437920</td>\n",
       "    </tr>\n",
       "    <tr>\n",
       "      <th>58</th>\n",
       "      <td>2019-03-27</td>\n",
       "      <td>1.0</td>\n",
       "      <td>167.85</td>\n",
       "      <td>168.94</td>\n",
       "      <td>164.79</td>\n",
       "      <td>165.87</td>\n",
       "      <td>10620299</td>\n",
       "    </tr>\n",
       "    <tr>\n",
       "      <th>59</th>\n",
       "      <td>2019-03-28</td>\n",
       "      <td>0.0</td>\n",
       "      <td>164.57</td>\n",
       "      <td>166.72</td>\n",
       "      <td>163.33</td>\n",
       "      <td>165.55</td>\n",
       "      <td>10689171</td>\n",
       "    </tr>\n",
       "    <tr>\n",
       "      <th>60</th>\n",
       "      <td>2019-03-29</td>\n",
       "      <td>1.0</td>\n",
       "      <td>166.39</td>\n",
       "      <td>167.19</td>\n",
       "      <td>164.81</td>\n",
       "      <td>166.69</td>\n",
       "      <td>13455454</td>\n",
       "    </tr>\n",
       "  </tbody>\n",
       "</table>\n",
       "</div>"
      ],
      "text/plain": [
       "          Date   SA    Open    High     Low   Close    Volume\n",
       "56  2019-03-25  0.0  163.00  166.54  162.00  166.29  12631230\n",
       "57  2019-03-26 -1.0  167.35  169.45  166.35  167.68  15437920\n",
       "58  2019-03-27  1.0  167.85  168.94  164.79  165.87  10620299\n",
       "59  2019-03-28  0.0  164.57  166.72  163.33  165.55  10689171\n",
       "60  2019-03-29  1.0  166.39  167.19  164.81  166.69  13455454"
      ]
     },
     "execution_count": 49,
     "metadata": {},
     "output_type": "execute_result"
    }
   ],
   "source": [
    "df2.tail()\n",
    "\n"
   ]
  },
  {
   "cell_type": "markdown",
   "metadata": {},
   "source": [
    "# EDA"
   ]
  },
  {
   "cell_type": "markdown",
   "metadata": {},
   "source": [
    "# Univariate Analysis"
   ]
  },
  {
   "cell_type": "code",
   "execution_count": 50,
   "metadata": {},
   "outputs": [],
   "source": [
    "from pandas import Series, DataFrame\n",
    "import seaborn as sns\n",
    "from scipy.stats import norm\n",
    "from scipy import stats\n",
    "import warnings\n",
    "warnings.filterwarnings('ignore')\n",
    "%matplotlib inline"
   ]
  },
  {
   "cell_type": "code",
   "execution_count": 51,
   "metadata": {},
   "outputs": [
    {
     "data": {
      "text/plain": [
       "Date       object\n",
       "SA        float64\n",
       "Open      float64\n",
       "High      float64\n",
       "Low       float64\n",
       "Close     float64\n",
       "Volume      int64\n",
       "dtype: object"
      ]
     },
     "execution_count": 51,
     "metadata": {},
     "output_type": "execute_result"
    }
   ],
   "source": [
    "df2.dtypes"
   ]
  },
  {
   "cell_type": "code",
   "execution_count": 52,
   "metadata": {},
   "outputs": [
    {
     "data": {
      "text/plain": [
       "Date      0\n",
       "Open      0\n",
       "High      0\n",
       "Low       0\n",
       "Close     0\n",
       "Volume    0\n",
       "dtype: int64"
      ]
     },
     "execution_count": 52,
     "metadata": {},
     "output_type": "execute_result"
    }
   ],
   "source": [
    "data_1.isnull().sum()     # No missing values"
   ]
  },
  {
   "cell_type": "code",
   "execution_count": 53,
   "metadata": {},
   "outputs": [
    {
     "data": {
      "text/html": [
       "<iframe id=\"igraph\" scrolling=\"no\" style=\"border:none;\" seamless=\"seamless\" src=\"https://plot.ly/~Aakash123456789/42.embed\" height=\"525px\" width=\"100%\"></iframe>"
      ],
      "text/plain": [
       "<plotly.tools.PlotlyDisplay object>"
      ]
     },
     "execution_count": 53,
     "metadata": {},
     "output_type": "execute_result"
    }
   ],
   "source": [
    "import plotly.plotly as py\n",
    "import plotly.graph_objs as go\n",
    "\n",
    "trace0 = go.Box(\n",
    "    y =df2[\"Open\"],\n",
    "    name = \"All Points\",\n",
    "    jitter = 0.3,\n",
    "    pointpos = -1.8,\n",
    "    boxpoints = 'all',\n",
    "    marker = dict(\n",
    "        color = 'rgb(7,40,89)'),\n",
    "    line = dict(\n",
    "        color = 'rgb(7,40,89)')\n",
    ")\n",
    "\n",
    "trace1 = go.Box(\n",
    "    y = df2[\"Open\"],\n",
    "    name = \"Only Whiskers\",\n",
    "    boxpoints = False,\n",
    "    marker = dict(\n",
    "        color = 'rgb(9,56,125)'),\n",
    "    line = dict(\n",
    "        color = 'rgb(9,56,125)')\n",
    ")\n",
    "\n",
    "trace2 = go.Box(\n",
    "    y = df2[\"Open\"],\n",
    "    name = \"Suspected Outliers\",\n",
    "    boxpoints = 'suspectedoutliers',\n",
    "    marker = dict(\n",
    "        color = 'rgb(8,81,156)',\n",
    "        outliercolor = 'rgba(219, 64, 82, 0.6)',\n",
    "        line = dict(\n",
    "            outliercolor = 'rgba(219, 64, 82, 0.6)',\n",
    "            outlierwidth = 2)),\n",
    "    line = dict(\n",
    "        color = 'rgb(8,81,156)')\n",
    ")\n",
    "\n",
    "trace3 = go.Box(\n",
    "    y = df2[\"Open\"],\n",
    "    name = \"Whiskers and Outliers\",\n",
    "    boxpoints = 'outliers',\n",
    "    marker = dict(\n",
    "        color = 'rgb(107,174,214)'),\n",
    "    line = dict(\n",
    "        color = 'rgb(107,174,214)')\n",
    ")\n",
    "\n",
    "data = [trace0,trace1,trace2,trace3]\n",
    "\n",
    "layout = go.Layout(\n",
    "    title = \"Box Plot Styling Outliers for Attribute Open\"\n",
    ")\n",
    "\n",
    "fig = go.Figure(data=data,layout=layout)\n",
    "py.iplot(fig, filename = \"Box Plot Styling Outliers for Attribute Open\")\n",
    "\n"
   ]
  },
  {
   "cell_type": "code",
   "execution_count": 54,
   "metadata": {},
   "outputs": [
    {
     "data": {
      "text/html": [
       "<iframe id=\"igraph\" scrolling=\"no\" style=\"border:none;\" seamless=\"seamless\" src=\"https://plot.ly/~Aakash123456789/40.embed\" height=\"525px\" width=\"100%\"></iframe>"
      ],
      "text/plain": [
       "<plotly.tools.PlotlyDisplay object>"
      ]
     },
     "execution_count": 54,
     "metadata": {},
     "output_type": "execute_result"
    }
   ],
   "source": [
    "import plotly.plotly as py\n",
    "import plotly.graph_objs as go\n",
    "\n",
    "trace0 = go.Box(\n",
    "    y =df2[\"Close\"],\n",
    "    name = \"All Points\",\n",
    "    jitter = 0.3,\n",
    "    pointpos = -1.8,\n",
    "    boxpoints = 'all',\n",
    "    marker = dict(\n",
    "        color = 'rgb(7,40,89)'),\n",
    "    line = dict(\n",
    "        color = 'rgb(7,40,89)')\n",
    ")\n",
    "\n",
    "trace1 = go.Box(\n",
    "    y = df2[\"Close\"],\n",
    "    name = \"Only Whiskers\",\n",
    "    boxpoints = False,\n",
    "    marker = dict(\n",
    "        color = 'rgb(9,56,125)'),\n",
    "    line = dict(\n",
    "        color = 'rgb(9,56,125)')\n",
    ")\n",
    "\n",
    "trace2 = go.Box(\n",
    "    y = df2[\"Close\"],\n",
    "    name = \"Suspected Outliers\",\n",
    "    boxpoints = 'suspectedoutliers',\n",
    "    marker = dict(\n",
    "        color = 'rgb(8,81,156)',\n",
    "        outliercolor = 'rgba(219, 64, 82, 0.6)',\n",
    "        line = dict(\n",
    "            outliercolor = 'rgba(219, 64, 82, 0.6)',\n",
    "            outlierwidth = 2)),\n",
    "    line = dict(\n",
    "        color = 'rgb(8,81,156)')\n",
    ")\n",
    "\n",
    "trace3 = go.Box(\n",
    "    y = df2[\"Close\"],\n",
    "    name = \"Whiskers and Outliers\",\n",
    "    boxpoints = 'outliers',\n",
    "    marker = dict(\n",
    "        color = 'rgb(107,174,214)'),\n",
    "    line = dict(\n",
    "        color = 'rgb(107,174,214)')\n",
    ")\n",
    "\n",
    "data = [trace0,trace1,trace2,trace3]\n",
    "\n",
    "layout = go.Layout(\n",
    "    title = \"Box Plot Styling Outliers for Attribute Close\"\n",
    ")\n",
    "\n",
    "fig = go.Figure(data=data,layout=layout)\n",
    "py.iplot(fig, filename = \"Box Plot Styling Outliers for Attribute Close\")\n",
    "\n"
   ]
  },
  {
   "cell_type": "code",
   "execution_count": 55,
   "metadata": {},
   "outputs": [
    {
     "data": {
      "text/html": [
       "<iframe id=\"igraph\" scrolling=\"no\" style=\"border:none;\" seamless=\"seamless\" src=\"https://plot.ly/~Aakash123456789/30.embed\" height=\"525px\" width=\"100%\"></iframe>"
      ],
      "text/plain": [
       "<plotly.tools.PlotlyDisplay object>"
      ]
     },
     "execution_count": 55,
     "metadata": {},
     "output_type": "execute_result"
    }
   ],
   "source": [
    "import plotly.plotly as py\n",
    "import plotly.graph_objs as go\n",
    "\n",
    "trace0 = go.Box(\n",
    "    y =df2[\"High\"],\n",
    "    name = \"All Points\",\n",
    "    jitter = 0.3,\n",
    "    pointpos = -1.8,\n",
    "    boxpoints = 'all',\n",
    "    marker = dict(\n",
    "        color = 'rgb(7,40,89)'),\n",
    "    line = dict(\n",
    "        color = 'rgb(7,40,89)')\n",
    ")\n",
    "\n",
    "trace1 = go.Box(\n",
    "    y = df2[\"High\"],\n",
    "    name = \"Only Whiskers\",\n",
    "    boxpoints = False,\n",
    "    marker = dict(\n",
    "        color = 'rgb(9,56,125)'),\n",
    "    line = dict(\n",
    "        color = 'rgb(9,56,125)')\n",
    ")\n",
    "\n",
    "trace2 = go.Box(\n",
    "    y = df2[\"High\"],\n",
    "    name = \"Suspected Outliers\",\n",
    "    boxpoints = 'suspectedoutliers',\n",
    "    marker = dict(\n",
    "        color = 'rgb(8,81,156)',\n",
    "        outliercolor = 'rgba(219, 64, 82, 0.6)',\n",
    "        line = dict(\n",
    "            outliercolor = 'rgba(219, 64, 82, 0.6)',\n",
    "            outlierwidth = 2)),\n",
    "    line = dict(\n",
    "        color = 'rgb(8,81,156)')\n",
    ")\n",
    "\n",
    "trace3 = go.Box(\n",
    "    y = df2[\"High\"],\n",
    "    name = \"Whiskers and Outliers\",\n",
    "    boxpoints = 'outliers',\n",
    "    marker = dict(\n",
    "        color = 'rgb(107,174,214)'),\n",
    "    line = dict(\n",
    "        color = 'rgb(107,174,214)')\n",
    ")\n",
    "\n",
    "data = [trace0,trace1,trace2,trace3]\n",
    "\n",
    "layout = go.Layout(\n",
    "    title = \"Box Plot Styling Outliers for Attribute High\"\n",
    ")\n",
    "\n",
    "fig = go.Figure(data=data,layout=layout)\n",
    "py.iplot(fig, filename = \"Box Plot Styling Outliers for Attribute High\")\n",
    "\n"
   ]
  },
  {
   "cell_type": "code",
   "execution_count": 56,
   "metadata": {},
   "outputs": [
    {
     "data": {
      "text/html": [
       "<iframe id=\"igraph\" scrolling=\"no\" style=\"border:none;\" seamless=\"seamless\" src=\"https://plot.ly/~Aakash123456789/32.embed\" height=\"525px\" width=\"100%\"></iframe>"
      ],
      "text/plain": [
       "<plotly.tools.PlotlyDisplay object>"
      ]
     },
     "execution_count": 56,
     "metadata": {},
     "output_type": "execute_result"
    }
   ],
   "source": [
    "import plotly.plotly as py\n",
    "import plotly.graph_objs as go\n",
    "\n",
    "trace0 = go.Box(\n",
    "    y =df2[\"Low\"],\n",
    "    name = \"All Points\",\n",
    "    jitter = 0.3,\n",
    "    pointpos = -1.8,\n",
    "    boxpoints = 'all',\n",
    "    marker = dict(\n",
    "        color = 'rgb(7,40,89)'),\n",
    "    line = dict(\n",
    "        color = 'rgb(7,40,89)')\n",
    ")\n",
    "\n",
    "trace1 = go.Box(\n",
    "    y = df2[\"Low\"],\n",
    "    name = \"Only Whiskers\",\n",
    "    boxpoints = False,\n",
    "    marker = dict(\n",
    "        color = 'rgb(9,56,125)'),\n",
    "    line = dict(\n",
    "        color = 'rgb(9,56,125)')\n",
    ")\n",
    "\n",
    "trace2 = go.Box(\n",
    "    y = df2[\"Low\"],\n",
    "    name = \"Suspected Outliers\",\n",
    "    boxpoints = 'suspectedoutliers',\n",
    "    marker = dict(\n",
    "        color = 'rgb(8,81,156)',\n",
    "        outliercolor = 'rgba(219, 64, 82, 0.6)',\n",
    "        line = dict(\n",
    "            outliercolor = 'rgba(219, 64, 82, 0.6)',\n",
    "            outlierwidth = 2)),\n",
    "    line = dict(\n",
    "        color = 'rgb(8,81,156)')\n",
    ")\n",
    "\n",
    "trace3 = go.Box(\n",
    "    y = df2[\"Low\"],\n",
    "    name = \"Whiskers and Outliers\",\n",
    "    boxpoints = 'outliers',\n",
    "    marker = dict(\n",
    "        color = 'rgb(107,174,214)'),\n",
    "    line = dict(\n",
    "        color = 'rgb(107,174,214)')\n",
    ")\n",
    "\n",
    "data = [trace0,trace1,trace2,trace3]\n",
    "\n",
    "layout = go.Layout(\n",
    "    title = \"Box Plot Styling Outliers for Attribute Low\"\n",
    ")\n",
    "\n",
    "fig = go.Figure(data=data,layout=layout)\n",
    "py.iplot(fig, filename = \"Box Plot Styling Outliers for Attribute Low\")\n",
    "\n"
   ]
  },
  {
   "cell_type": "code",
   "execution_count": 59,
   "metadata": {},
   "outputs": [
    {
     "data": {
      "text/html": [
       "<iframe id=\"igraph\" scrolling=\"no\" style=\"border:none;\" seamless=\"seamless\" src=\"https://plot.ly/~Aakash123456789/34.embed\" height=\"525px\" width=\"100%\"></iframe>"
      ],
      "text/plain": [
       "<plotly.tools.PlotlyDisplay object>"
      ]
     },
     "execution_count": 59,
     "metadata": {},
     "output_type": "execute_result"
    }
   ],
   "source": [
    "import plotly.plotly as py\n",
    "import plotly.graph_objs as go\n",
    "\n",
    "trace0 = go.Box(\n",
    "    y =df2[\"Volume\"],\n",
    "    name = \"All Points\",\n",
    "    jitter = 0.3,\n",
    "    pointpos = -1.8,\n",
    "    boxpoints = 'all',\n",
    "    marker = dict(\n",
    "        color = 'rgb(7,40,89)'),\n",
    "    line = dict(\n",
    "        color = 'rgb(7,40,89)')\n",
    ")\n",
    "\n",
    "trace1 = go.Box(\n",
    "    y = df2[\"Volume\"],\n",
    "    name = \"Only Whiskers\",\n",
    "    boxpoints = False,\n",
    "    marker = dict(\n",
    "        color = 'rgb(9,56,125)'),\n",
    "    line = dict(\n",
    "        color = 'rgb(9,56,125)')\n",
    ")\n",
    "\n",
    "trace2 = go.Box(\n",
    "    y = df2[\"Volume\"],\n",
    "    name = \"Suspected Outliers\",\n",
    "    boxpoints = 'suspectedoutliers',\n",
    "    marker = dict(\n",
    "        color = 'rgb(8,81,156)',\n",
    "        outliercolor = 'rgba(219, 64, 82, 0.6)',\n",
    "        line = dict(\n",
    "            outliercolor = 'rgba(219, 64, 82, 0.6)',\n",
    "            outlierwidth = 2)),\n",
    "    line = dict(\n",
    "        color = 'rgb(8,81,156)')\n",
    ")\n",
    "\n",
    "trace3 = go.Box(\n",
    "    y = df2[\"Volume\"],\n",
    "    name = \"Whiskers and Outliers\",\n",
    "    boxpoints = 'outliers',\n",
    "    marker = dict(\n",
    "        color = 'rgb(107,174,214)'),\n",
    "    line = dict(\n",
    "        color = 'rgb(107,174,214)')\n",
    ")\n",
    "\n",
    "data = [trace0,trace1,trace2,trace3]\n",
    "\n",
    "layout = go.Layout(\n",
    "    title = \"Box Plot Styling Outliers for Attribute Volume\"\n",
    ")\n",
    "\n",
    "fig = go.Figure(data=data,layout=layout)\n",
    "py.iplot(fig, filename = \"Box Plot Styling Outliers for Attribute Volume\")\n",
    "\n"
   ]
  },
  {
   "cell_type": "markdown",
   "metadata": {},
   "source": [
    "# Bi-variate Analysis"
   ]
  },
  {
   "cell_type": "code",
   "execution_count": 60,
   "metadata": {},
   "outputs": [
    {
     "data": {
      "image/png": "[encoded data removed]",
      "text/plain": [
       "<matplotlib.figure.Figure at 0x7fa565f36048>"
      ]
     },
     "metadata": {},
     "output_type": "display_data"
    }
   ],
   "source": [
    "corrmat = df2.corr()\n",
    "f, ax = plt.subplots(figsize=(12, 9))\n",
    "sns.heatmap(corrmat, vmax=.9);"
   ]
  },
  {
   "cell_type": "code",
   "execution_count": 62,
   "metadata": {},
   "outputs": [
    {
     "data": {
      "text/html": [
       "<iframe id=\"igraph\" scrolling=\"no\" style=\"border:none;\" seamless=\"seamless\" src=\"https://plot.ly/~Aakash123456789/36.embed\" height=\"525px\" width=\"100%\"></iframe>"
      ],
      "text/plain": [
       "<plotly.tools.PlotlyDisplay object>"
      ]
     },
     "execution_count": 62,
     "metadata": {},
     "output_type": "execute_result"
    }
   ],
   "source": [
    "\n",
    "# Create traces\n",
    "trace0 = go.Scatter(\n",
    "    y = df2[\"Open\"],\n",
    "    x = df2[\"Date\"],\n",
    "    mode = 'markers+lines',\n",
    "    name = 'Open Value',\n",
    "    marker={\"size\": 2}\n",
    ")\n",
    "trace1 = go.Scatter(\n",
    "    y = df2[\"Close\"],\n",
    "    x = df2[\"Date\"],\n",
    "    mode = 'lines+markers',\n",
    "    name = 'Close Value',\n",
    "    marker={\"size\": 3.5}\n",
    ")\n",
    "trace2 = go.Scatter(\n",
    "    y = df2[\"High\"],\n",
    "    x = df2[\"Date\"],\n",
    "    mode = 'lines',\n",
    "    name = 'High Value',\n",
    "    marker={\"size\": 3}\n",
    ")\n",
    "trace3 = go.Scatter(\n",
    "    y = df2[\"Low\"],\n",
    "    x = df2[\"Date\"],\n",
    "    mode = 'lines',\n",
    "    name = 'Low Value',\n",
    "    marker={\"size\": 3.5}\n",
    ")\n",
    "\n",
    "data = [trace0, trace1, trace2,trace3]\n",
    "\n",
    "layout= go.Layout(\n",
    "    title= 'Visualizing Attributes Open, Close ,High, Low',\n",
    "    hovermode= 'closest',\n",
    "    xaxis= dict(\n",
    "        title= 'Dates',\n",
    "        ticklen= 5,\n",
    "        zeroline= False,\n",
    "        gridwidth= 2,\n",
    "    ),\n",
    "    yaxis=dict(\n",
    "        title= 'Open Value, Close Value ,High Value, Low Value',\n",
    "        ticklen= 5,\n",
    "        gridwidth= 2,\n",
    "    ),\n",
    "    showlegend= False\n",
    ")\n",
    "fig = dict(data=data, layout=layout)\n",
    "py.iplot(fig, filename='scatter-mode')"
   ]
  },
  {
   "cell_type": "code",
   "execution_count": 63,
   "metadata": {},
   "outputs": [
    {
     "data": {
      "text/html": [
       "<iframe id=\"igraph\" scrolling=\"no\" style=\"border:none;\" seamless=\"seamless\" src=\"https://plot.ly/~Aakash123456789/36.embed\" height=\"525px\" width=\"100%\"></iframe>"
      ],
      "text/plain": [
       "<plotly.tools.PlotlyDisplay object>"
      ]
     },
     "execution_count": 63,
     "metadata": {},
     "output_type": "execute_result"
    }
   ],
   "source": [
    "trace0 = go.Scatter(\n",
    "    y = df2[\"Volume\"],\n",
    "    x = df2[\"Date\"],\n",
    "    mode = 'lines',\n",
    "    name = 'Stock Volume',\n",
    "    marker={\"size\": 3.5}\n",
    ")\n",
    "layout= go.Layout(\n",
    "    title= 'Visualization of Volume Attribute',\n",
    "    hovermode= 'closest',\n",
    "    xaxis= dict(\n",
    "        title= 'Dates',\n",
    "        ticklen= 5,\n",
    "        zeroline= False,\n",
    "        gridwidth= 2,\n",
    "    ),\n",
    "    yaxis=dict(\n",
    "        title= 'FB Stock Volume',\n",
    "        ticklen= 5,\n",
    "        gridwidth= 2,\n",
    "    ),\n",
    "    showlegend= False\n",
    ")\n",
    "fig = dict(data=[trace0], layout=layout)\n",
    "py.iplot(fig, filename='scatter-mode')"
   ]
  },
  {
   "cell_type": "code",
   "execution_count": 64,
   "metadata": {},
   "outputs": [
    {
     "data": {
      "text/plain": [
       "SA        0.136928\n",
       "Open     -0.848173\n",
       "High     -0.753151\n",
       "Low      -0.819716\n",
       "Close    -0.761357\n",
       "Volume    3.322621\n",
       "dtype: float64"
      ]
     },
     "execution_count": 64,
     "metadata": {},
     "output_type": "execute_result"
    }
   ],
   "source": [
    "df2.skew(axis = 0, skipna = True) "
   ]
  },
  {
   "cell_type": "markdown",
   "metadata": {},
   "source": [
    "# Detecting Outliers"
   ]
  },
  {
   "cell_type": "code",
   "execution_count": 65,
   "metadata": {},
   "outputs": [
    {
     "name": "stdout",
     "output_type": "stream",
     "text": [
      "No of ouliers by standard devaition method is  1\n"
     ]
    }
   ],
   "source": [
    "df3 = df2.Volume\n",
    "d=df3[((df3-df3.mean()).abs()>3*df3.std())]\n",
    "print(\"No of outliers by standard deviation method is \",len(d)-d.isna().sum())"
   ]
  },
  {
   "cell_type": "raw",
   "metadata": {},
   "source": [
    "\"\"\"We can notice the difference in IQR and standard deviation method. \n",
    "In IQR method we had detected 5 outliers in the array1 but using std dev method, \n",
    "we detected only one outlier point in the array1. \n",
    "Many times we may want to change the ranges to detect outliers using both the methods. \n",
    "Also there are several other methods to detect and remove outliers and their applications\n",
    "and efficacy depend mainly on the use case.\n",
    "\"\"\""
   ]
  },
  {
   "cell_type": "markdown",
   "metadata": {},
   "source": [
    "# Variable transformation and Outlier treatment"
   ]
  },
  {
   "cell_type": "markdown",
   "metadata": {},
   "source": [
    "# Apply log transformation because it is highly skewed positively  for Volume"
   ]
  },
  {
   "cell_type": "code",
   "execution_count": 66,
   "metadata": {},
   "outputs": [],
   "source": [
    "df2['Volume'] = np.log(df2['Volume'])"
   ]
  },
  {
   "cell_type": "code",
   "execution_count": 67,
   "metadata": {},
   "outputs": [
    {
     "data": {
      "text/html": [
       "<iframe id=\"igraph\" scrolling=\"no\" style=\"border:none;\" seamless=\"seamless\" src=\"https://plot.ly/~Aakash123456789/36.embed\" height=\"525px\" width=\"100%\"></iframe>"
      ],
      "text/plain": [
       "<plotly.tools.PlotlyDisplay object>"
      ]
     },
     "execution_count": 67,
     "metadata": {},
     "output_type": "execute_result"
    }
   ],
   "source": [
    "trace0 = go.Scatter(\n",
    "    y = df2[\"Volume\"],\n",
    "    x = df2[\"Date\"],\n",
    "    mode = 'lines',\n",
    "    name = 'Stock Volume',\n",
    "    marker={\"size\": 3.5}\n",
    ")\n",
    "\n",
    "layout= go.Layout(\n",
    "    title= 'Visualizing FB Stock Volume after Transformation',\n",
    "    hovermode= 'closest',\n",
    "    xaxis= dict(\n",
    "        title= 'Dates',\n",
    "        ticklen= 5,\n",
    "        zeroline= False,\n",
    "        gridwidth= 2,\n",
    "    ),\n",
    "    yaxis=dict(\n",
    "        title= 'FB Stock Volume',\n",
    "        ticklen= 5,\n",
    "        gridwidth= 2,\n",
    "    ),\n",
    "    showlegend= False\n",
    ")\n",
    "data=[trace0]\n",
    "fig = dict(data=data, layout=layout)\n",
    "py.iplot(fig, filename='scatter-mode')\n"
   ]
  },
  {
   "cell_type": "markdown",
   "metadata": {},
   "source": [
    "# Apply square transformation because it is highly skewed negitively  for Open,High,Low,Close\n"
   ]
  },
  {
   "cell_type": "code",
   "execution_count": 68,
   "metadata": {},
   "outputs": [],
   "source": [
    "df2['Open'] = np.square(df2['Open'])\n",
    "df2['Close'] = np.square(df2['Close'])\n",
    "df2['Low'] = np.square(df2['Low'])\n",
    "df2['High'] = np.square(df2['High'])"
   ]
  },
  {
   "cell_type": "code",
   "execution_count": 69,
   "metadata": {},
   "outputs": [
    {
     "data": {
      "text/html": [
       "<iframe id=\"igraph\" scrolling=\"no\" style=\"border:none;\" seamless=\"seamless\" src=\"https://plot.ly/~Aakash123456789/36.embed\" height=\"525px\" width=\"100%\"></iframe>"
      ],
      "text/plain": [
       "<plotly.tools.PlotlyDisplay object>"
      ]
     },
     "execution_count": 69,
     "metadata": {},
     "output_type": "execute_result"
    }
   ],
   "source": [
    "\n",
    "# Create traces\n",
    "trace0 = go.Scatter(\n",
    "    y = df2[\"Open\"],\n",
    "    x = df2[\"Date\"],\n",
    "    mode = 'markers+lines',\n",
    "    name = 'Open Value',\n",
    "    marker={\"size\": 2}\n",
    ")\n",
    "trace1 = go.Scatter(\n",
    "    y = df2[\"Close\"],\n",
    "    x = df2[\"Date\"],\n",
    "    mode = 'lines+markers',\n",
    "    name = 'Close Value',\n",
    "    marker={\"size\": 3.5}\n",
    ")\n",
    "trace2 = go.Scatter(\n",
    "    y = df2[\"High\"],\n",
    "    x = df2[\"Date\"],\n",
    "    mode = 'lines',\n",
    "    name = 'High Value',\n",
    "    marker={\"size\": 3}\n",
    ")\n",
    "trace3 = go.Scatter(\n",
    "    y = df2[\"Low\"],\n",
    "    x = df2[\"Date\"],\n",
    "    mode = 'lines',\n",
    "    name = 'Low Value',\n",
    "    marker={\"size\": 3.5}\n",
    ")\n",
    "\n",
    "data = [trace0, trace1, trace2,trace3]\n",
    "\n",
    "layout= go.Layout(\n",
    "    title= 'Visualizing Attributes Open, Close ,High, Low after Trarnsformation',\n",
    "    hovermode= 'closest',\n",
    "    xaxis= dict(\n",
    "        title= 'Dates',\n",
    "        ticklen= 5,\n",
    "        zeroline= False,\n",
    "        gridwidth= 2,\n",
    "    ),\n",
    "    yaxis=dict(\n",
    "        title= 'Open Value, Close Value ,High Value, Low Value ',\n",
    "        ticklen= 5,\n",
    "        gridwidth= 2,\n",
    "    ),\n",
    "    showlegend= False\n",
    ")\n",
    "fig = dict(data=data, layout=layout)\n",
    "py.iplot(fig, filename='scatter-mode')"
   ]
  },
  {
   "cell_type": "code",
   "execution_count": 70,
   "metadata": {},
   "outputs": [
    {
     "data": {
      "text/plain": [
       "SA        0.136928\n",
       "Open     -0.760151\n",
       "High     -0.686760\n",
       "Low      -0.733749\n",
       "Close    -0.685549\n",
       "Volume    1.163395\n",
       "dtype: float64"
      ]
     },
     "execution_count": 70,
     "metadata": {},
     "output_type": "execute_result"
    }
   ],
   "source": [
    "df2.skew(axis = 0, skipna = True)          #skewness has been decreased"
   ]
  },
  {
   "cell_type": "code",
   "execution_count": 71,
   "metadata": {},
   "outputs": [
    {
     "data": {
      "text/html": [
       "<iframe id=\"igraph\" scrolling=\"no\" style=\"border:none;\" seamless=\"seamless\" src=\"https://plot.ly/~Aakash123456789/38.embed\" height=\"525px\" width=\"100%\"></iframe>"
      ],
      "text/plain": [
       "<plotly.tools.PlotlyDisplay object>"
      ]
     },
     "execution_count": 71,
     "metadata": {},
     "output_type": "execute_result"
    }
   ],
   "source": [
    "import plotly.plotly as py\n",
    "import plotly.graph_objs as go\n",
    "\n",
    "trace0 = go.Box(\n",
    "    y =df2[\"Volume\"],\n",
    "    name = \"All Points\",\n",
    "    jitter = 0.3,\n",
    "    pointpos = -1.8,\n",
    "    boxpoints = 'all',\n",
    "    marker = dict(\n",
    "        color = 'rgb(7,40,89)'),\n",
    "    line = dict(\n",
    "        color = 'rgb(7,40,89)')\n",
    ")\n",
    "\n",
    "trace1 = go.Box(\n",
    "    y = df2[\"Volume\"],\n",
    "    name = \"Only Whiskers\",\n",
    "    boxpoints = False,\n",
    "    marker = dict(\n",
    "        color = 'rgb(9,56,125)'),\n",
    "    line = dict(\n",
    "        color = 'rgb(9,56,125)')\n",
    ")\n",
    "\n",
    "trace2 = go.Box(\n",
    "    y = df2[\"Volume\"],\n",
    "    name = \"Suspected Outliers\",\n",
    "    boxpoints = 'suspectedoutliers',\n",
    "    marker = dict(\n",
    "        color = 'rgb(8,81,156)',\n",
    "        outliercolor = 'rgba(219, 64, 82, 0.6)',\n",
    "        line = dict(\n",
    "            outliercolor = 'rgba(219, 64, 82, 0.6)',\n",
    "            outlierwidth = 2)),\n",
    "    line = dict(\n",
    "        color = 'rgb(8,81,156)')\n",
    ")\n",
    "\n",
    "trace3 = go.Box(\n",
    "    y = df2[\"Volume\"],\n",
    "    name = \"Whiskers and Outliers\",\n",
    "    boxpoints = 'outliers',\n",
    "    marker = dict(\n",
    "        color = 'rgb(107,174,214)'),\n",
    "    line = dict(\n",
    "        color = 'rgb(107,174,214)')\n",
    ")\n",
    "\n",
    "data = [trace0,trace1,trace2,trace3]\n",
    "\n",
    "layout = go.Layout(\n",
    "    title = \"Box Plot Styling Outliers for Attribute Volume After Outlier Treatment\"\n",
    ")\n",
    "\n",
    "fig = go.Figure(data=data,layout=layout)\n",
    "py.iplot(fig, filename = \"Box Plot Styling Outliers for Attribute Volume After Outlier Treatment\")\n",
    "\n"
   ]
  },
  {
   "cell_type": "markdown",
   "metadata": {},
   "source": [
    "# Build and Train the Model"
   ]
  },
  {
   "cell_type": "code",
   "execution_count": 72,
   "metadata": {},
   "outputs": [
    {
     "data": {
      "text/html": [
       "<div>\n",
       "<style scoped>\n",
       "    .dataframe tbody tr th:only-of-type {\n",
       "        vertical-align: middle;\n",
       "    }\n",
       "\n",
       "    .dataframe tbody tr th {\n",
       "        vertical-align: top;\n",
       "    }\n",
       "\n",
       "    .dataframe thead th {\n",
       "        text-align: right;\n",
       "    }\n",
       "</style>\n",
       "<table border=\"1\" class=\"dataframe\">\n",
       "  <thead>\n",
       "    <tr style=\"text-align: right;\">\n",
       "      <th></th>\n",
       "      <th>Date</th>\n",
       "      <th>SA</th>\n",
       "      <th>Open</th>\n",
       "      <th>High</th>\n",
       "      <th>Low</th>\n",
       "      <th>Close</th>\n",
       "      <th>Volume</th>\n",
       "    </tr>\n",
       "  </thead>\n",
       "  <tbody>\n",
       "    <tr>\n",
       "      <th>0</th>\n",
       "      <td>2019-01-02</td>\n",
       "      <td>0.0</td>\n",
       "      <td>16638.4201</td>\n",
       "      <td>18909.0001</td>\n",
       "      <td>16527.6736</td>\n",
       "      <td>18409.0624</td>\n",
       "      <td>17.152923</td>\n",
       "    </tr>\n",
       "    <tr>\n",
       "      <th>1</th>\n",
       "      <td>2019-01-03</td>\n",
       "      <td>0.0</td>\n",
       "      <td>18141.3961</td>\n",
       "      <td>18815.6089</td>\n",
       "      <td>17192.4544</td>\n",
       "      <td>17355.4276</td>\n",
       "      <td>16.938666</td>\n",
       "    </tr>\n",
       "    <tr>\n",
       "      <th>2</th>\n",
       "      <td>2019-01-04</td>\n",
       "      <td>0.0</td>\n",
       "      <td>17958.6801</td>\n",
       "      <td>19044.0000</td>\n",
       "      <td>17889.0625</td>\n",
       "      <td>19030.2025</td>\n",
       "      <td>17.182877</td>\n",
       "    </tr>\n",
       "    <tr>\n",
       "      <th>3</th>\n",
       "      <td>2019-01-07</td>\n",
       "      <td>0.0</td>\n",
       "      <td>18922.7536</td>\n",
       "      <td>19284.8769</td>\n",
       "      <td>18471.5281</td>\n",
       "      <td>19057.8025</td>\n",
       "      <td>16.815700</td>\n",
       "    </tr>\n",
       "    <tr>\n",
       "      <th>4</th>\n",
       "      <td>2019-01-08</td>\n",
       "      <td>0.0</td>\n",
       "      <td>19569.2121</td>\n",
       "      <td>20489.0596</td>\n",
       "      <td>19471.4116</td>\n",
       "      <td>20314.8009</td>\n",
       "      <td>17.083702</td>\n",
       "    </tr>\n",
       "  </tbody>\n",
       "</table>\n",
       "</div>"
      ],
      "text/plain": [
       "         Date   SA        Open        High         Low       Close     Volume\n",
       "0  2019-01-02  0.0  16638.4201  18909.0001  16527.6736  18409.0624  17.152923\n",
       "1  2019-01-03  0.0  18141.3961  18815.6089  17192.4544  17355.4276  16.938666\n",
       "2  2019-01-04  0.0  17958.6801  19044.0000  17889.0625  19030.2025  17.182877\n",
       "3  2019-01-07  0.0  18922.7536  19284.8769  18471.5281  19057.8025  16.815700\n",
       "4  2019-01-08  0.0  19569.2121  20489.0596  19471.4116  20314.8009  17.083702"
      ]
     },
     "execution_count": 72,
     "metadata": {},
     "output_type": "execute_result"
    }
   ],
   "source": [
    "df2.head()"
   ]
  },
  {
   "cell_type": "markdown",
   "metadata": {},
   "source": [
    "# Open,Close,High,Low are dependent variables"
   ]
  },
  {
   "cell_type": "code",
   "execution_count": 73,
   "metadata": {},
   "outputs": [],
   "source": [
    "from sklearn.linear_model import LinearRegression\n",
    "X = df2[['SA','Volume']] # here we have 2 variables for multiple regression. If you just want to use one variable for simple linear regression, then use X = df['Interest_Rate'] for example.Alternatively, you may add additional variables within the brackets\n",
    "Y = df2['Open']"
   ]
  },
  {
   "cell_type": "code",
   "execution_count": 74,
   "metadata": {},
   "outputs": [],
   "source": [
    "from sklearn.cross_validation import train_test_split\n",
    "from sklearn.model_selection import cross_val_score\n",
    "X_train, X_test, y_train, y_test_open = train_test_split(X, Y, test_size = 0.15, random_state = 3)\n",
    "\n",
    "#### Fitting Multiple Linear Regression to the Training setfrom sklearn.linear_model import LinearRegression\n",
    "regressor = LinearRegression()\n",
    "regressor.fit(X_train, y_train)\n",
    "y_pred_open = regressor.predict(X_test)\n"
   ]
  },
  {
   "cell_type": "code",
   "execution_count": 75,
   "metadata": {},
   "outputs": [
    {
     "data": {
      "text/plain": [
       "0.29007462657466476"
      ]
     },
     "execution_count": 75,
     "metadata": {},
     "output_type": "execute_result"
    }
   ],
   "source": [
    "from sklearn.metrics import explained_variance_score\n",
    "explained_variance_score(y_test_open, y_pred_open) "
   ]
  },
  {
   "cell_type": "markdown",
   "metadata": {},
   "source": [
    "# explained\\_{}variance(y, \\hat{y}) = 1 - \\frac{Var\\{ y - \\hat{y}\\}}{Var\\{y\\}}  tex commands "
   ]
  },
  {
   "cell_type": "code",
   "execution_count": 76,
   "metadata": {},
   "outputs": [
    {
     "data": {
      "text/plain": [
       "0.28280991939471467"
      ]
     },
     "execution_count": 76,
     "metadata": {},
     "output_type": "execute_result"
    }
   ],
   "source": [
    "from sklearn.metrics import r2_score\n",
    "r2_score(y_test_open, y_pred_open)"
   ]
  },
  {
   "cell_type": "code",
   "execution_count": 77,
   "metadata": {},
   "outputs": [],
   "source": [
    "# Similarly for other  dependent variables "
   ]
  },
  {
   "cell_type": "code",
   "execution_count": 78,
   "metadata": {},
   "outputs": [
    {
     "data": {
      "text/plain": [
       "0.25891797041149855"
      ]
     },
     "execution_count": 78,
     "metadata": {},
     "output_type": "execute_result"
    }
   ],
   "source": [
    "Y= df2['Close']\n",
    "X_train, X_test, y_train, y_test_close = train_test_split(X, Y, test_size = 0.15, random_state = 3)\n",
    "\n",
    "#### Fitting Multiple Linear Regression to the Training setfrom sklearn.linear_model import LinearRegression\n",
    "regressor = LinearRegression()\n",
    "regressor.fit(X_train, y_train)\n",
    "y_pred_close = regressor.predict(X_test)\n",
    "explained_variance_score(y_test_close, y_pred_close)"
   ]
  },
  {
   "cell_type": "code",
   "execution_count": 79,
   "metadata": {},
   "outputs": [
    {
     "data": {
      "text/plain": [
       "0.24517831434566473"
      ]
     },
     "execution_count": 79,
     "metadata": {},
     "output_type": "execute_result"
    }
   ],
   "source": [
    "Y= df2['High']\n",
    "X_train, X_test, y_train, y_test_high = train_test_split(X, Y, test_size = 0.15, random_state = 3)\n",
    "\n",
    "#### Fitting Multiple Linear Regression to the Training setfrom sklearn.linear_model import LinearRegression\n",
    "regressor = LinearRegression()\n",
    "regressor.fit(X_train, y_train)\n",
    "y_pred_high = regressor.predict(X_test)\n",
    "explained_variance_score(y_test_high, y_pred_high)"
   ]
  },
  {
   "cell_type": "code",
   "execution_count": 80,
   "metadata": {},
   "outputs": [
    {
     "data": {
      "text/plain": [
       "0.27241702673042745"
      ]
     },
     "execution_count": 80,
     "metadata": {},
     "output_type": "execute_result"
    }
   ],
   "source": [
    "Y= df2['Low']\n",
    "X_train, X_test, y_train, y_test_low = train_test_split(X, Y, test_size = 0.15, random_state = 3)\n",
    "\n",
    "#### Fitting Multiple Linear Regression to the Training setfrom sklearn.linear_model import LinearRegression\n",
    "regressor = LinearRegression()\n",
    "regressor.fit(X_train, y_train)\n",
    "y_pred_low = regressor.predict(X_test)\n",
    "explained_variance_score(y_test_low, y_pred_low)"
   ]
  },
  {
   "cell_type": "code",
   "execution_count": 81,
   "metadata": {},
   "outputs": [
    {
     "data": {
      "text/html": [
       "<iframe id=\"igraph\" scrolling=\"no\" style=\"border:none;\" seamless=\"seamless\" src=\"https://plot.ly/~Aakash123456789/36.embed\" height=\"525px\" width=\"100%\"></iframe>"
      ],
      "text/plain": [
       "<plotly.tools.PlotlyDisplay object>"
      ]
     },
     "execution_count": 81,
     "metadata": {},
     "output_type": "execute_result"
    }
   ],
   "source": [
    "\n",
    "# Create traces\n",
    "trace0 = go.Scatter(\n",
    "    y = y_pred_open,\n",
    "    x = df2[\"Date\"][len(df2[\"Date\"])-len(y_pred_open):len(df2[\"Date\"])],\n",
    "    mode = 'markers+lines',\n",
    "    name = 'y_pred_open',\n",
    "    marker={\"size\": 2}\n",
    ")\n",
    "trace1 = go.Scatter(\n",
    "    y = y_test_open,\n",
    "    x = df2[\"Date\"][len(df2[\"Date\"])-len(y_pred_open):len(df2[\"Date\"])],\n",
    "    mode = 'markers+lines',\n",
    "    name = 'y_test_open',\n",
    "    marker={\"size\": 3.5}\n",
    ")\n",
    "trace2 = go.Scatter(\n",
    "    y = y_pred_close,\n",
    "    x = df2[\"Date\"][len(df2[\"Date\"])-len(y_pred_close):len(df2[\"Date\"])],\n",
    "    mode = 'markers+lines',\n",
    "    name = 'y_pred_close',\n",
    "    marker={\"size\": 3}\n",
    ")\n",
    "trace3 = go.Scatter(\n",
    "    y = y_test_close,\n",
    "    x = df2[\"Date\"][len(df2[\"Date\"])-len(y_pred_close):len(df2[\"Date\"])],\n",
    "    mode = 'markers+lines',\n",
    "    name = 'y_test_close',\n",
    "    marker={\"size\": 3.5}\n",
    "    \n",
    ")\n",
    "\n",
    "trace4 = go.Scatter(\n",
    "    y = y_pred_high,\n",
    "    x = df2[\"Date\"][len(df2[\"Date\"])-len(y_pred_high):len(df2[\"Date\"])],\n",
    "    mode = 'markers+lines',\n",
    "    name = 'y_pred_high',\n",
    "    marker={\"size\": 2}\n",
    ")\n",
    "trace5 = go.Scatter(\n",
    "    y = y_test_high,\n",
    "    x = df2[\"Date\"][len(df2[\"Date\"])-len(y_pred_high):len(df2[\"Date\"])], \n",
    "    mode = 'markers+lines',\n",
    "    name = 'y_test_high',\n",
    "    marker={\"size\": 3.5}\n",
    ")\n",
    "trace6 = go.Scatter(\n",
    "    y = y_pred_low,\n",
    "    x = df2[\"Date\"][len(df2[\"Date\"])-len(y_pred_low):len(df2[\"Date\"])], \n",
    "    mode = 'markers+lines',\n",
    "    name = 'y_pred_low',\n",
    "    marker={\"size\": 3}\n",
    ")\n",
    "trace7 = go.Scatter(\n",
    "    y =  y_test_low,\n",
    "    x = df2[\"Date\"][len(df2[\"Date\"])-len(y_pred_low):len(df2[\"Date\"])],\n",
    "    mode = 'markers+lines',\n",
    "    name = 'y_test_low',\n",
    "    marker={\"size\": 3.5}\n",
    "    \n",
    ")\n",
    "\n",
    "data = [trace0, trace1, trace2,trace3,trace4, trace5, trace6,trace7]\n",
    "layout= go.Layout(\n",
    "    title= 'Visualizing  Test and Predicted Attributes  ',\n",
    "    hovermode= 'closest',\n",
    "    xaxis= dict(\n",
    "        title= 'Dates',\n",
    "        ticklen= 5,\n",
    "        zeroline= False,\n",
    "        gridwidth= 2,\n",
    "    ),\n",
    "    yaxis=dict(\n",
    "        title= 'Test and Predicted Values',\n",
    "        ticklen= 5,\n",
    "        gridwidth= 2,\n",
    "    ),\n",
    "    showlegend= False\n",
    ")\n",
    "fig = dict(data=data, layout=layout)\n",
    "py.iplot(fig, filename='scatter-mode')"
   ]
  }
 ],
 "metadata": {
  "kernelspec": {
   "display_name": "Python 3",
   "language": "python",
   "name": "python3"
  },
  "language_info": {
   "codemirror_mode": {
    "name": "ipython",
    "version": 3
   },
   "file_extension": ".py",
   "mimetype": "text/x-python",
   "name": "python",
   "nbconvert_exporter": "python",
   "pygments_lexer": "ipython3",
   "version": "3.6.4"
  }
 },
 "nbformat": 4,
 "nbformat_minor": 2
}
